{
 "cells": [
  {
   "attachments": {},
   "cell_type": "markdown",
   "id": "33de6e2d",
   "metadata": {},
   "source": [
    "# 一切皆对象\n",
    "## python中函数和类也是对象\n",
    "1. 函数和类可以赋值给一个变量"
   ]
  },
  {
   "cell_type": "code",
   "execution_count": null,
   "metadata": {
    "collapsed": false,
    "vscode": {
     "languageId": "python"
    }
   },
   "outputs": [],
   "source": [
    "class Student:\n",
    "    def say(self):\n",
    "        print(\"i am a student\")\n",
    "\n",
    "stu = Student()\n",
    "stu.say()\n",
    "\n",
    "def say_teacher():\n",
    "    print(\"i am a teacher\")\n",
    "\n",
    "stu.say = say_teacher\n",
    "stu.say()"
   ]
  },
  {
   "attachments": {},
   "cell_type": "markdown",
   "id": "b1c53ec4",
   "metadata": {},
   "source": [
    "2. 可以添加到一个集合中"
   ]
  },
  {
   "cell_type": "code",
   "execution_count": null,
   "id": "bf1bef3f",
   "metadata": {
    "vscode": {
     "languageId": "python"
    }
   },
   "outputs": [],
   "source": [
    "def fun_test(name=\"haha1\"):\n",
    "    print(name)\n",
    "\n",
    "class TestClass:\n",
    "    def __init__(self, name=\"haha2\"):\n",
    "        print(name)\n",
    "\n",
    "obj_list = [fun_test, TestClass]\n",
    "\n",
    "for i in obj_list:\n",
    "    print(i())"
   ]
  },
  {
   "attachments": {},
   "cell_type": "markdown",
   "id": "65a26d72",
   "metadata": {},
   "source": [
    "3. 可以作为参数传给函数"
   ]
  },
  {
   "cell_type": "code",
   "execution_count": null,
   "id": "5a343ce6",
   "metadata": {
    "vscode": {
     "languageId": "python"
    }
   },
   "outputs": [],
   "source": [
    "def fun_test(name=\"haha1\"):\n",
    "            print(name)\n",
    "\n",
    "def print_type(fun_test):\n",
    "    fun_test()\n",
    "    print(type(fun_test))\n",
    "\n",
    "print_type(fun_test)"
   ]
  },
  {
   "attachments": {},
   "cell_type": "markdown",
   "id": "c7cade47",
   "metadata": {},
   "source": [
    "4. 可以当作函数的返回值"
   ]
  },
  {
   "cell_type": "code",
   "execution_count": null,
   "id": "748f08aa",
   "metadata": {
    "vscode": {
     "languageId": "python"
    }
   },
   "outputs": [],
   "source": [
    "def fun_test(name=\"haha1\"):\n",
    "    print(name)\n",
    "\n",
    "def decorator_test(name):\n",
    "    print(\"开始\")\n",
    "    return fun_test(name)\n",
    "\n",
    "decorator_test(\"abc\")"
   ]
  }
 ],
 "metadata": {
  "kernelspec": {
   "display_name": "Python 3 (ipykernel)",
   "language": "python",
   "name": "python3"
  }
 },
 "nbformat": 4,
 "nbformat_minor": 5
}
