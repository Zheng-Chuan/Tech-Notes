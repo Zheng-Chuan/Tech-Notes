{
 "cells": [
  {
   "cell_type": "code",
   "execution_count": 3,
   "metadata": {
    "ExecuteTime": {
     "end_time": "2023-05-18T05:09:12.880623Z",
     "start_time": "2023-05-18T05:09:12.876571Z"
    }
   },
   "outputs": [
    {
     "name": "stdout",
     "output_type": "stream",
     "text": [
      "3\n"
     ]
    },
    {
     "data": {
      "text/plain": "True"
     },
     "execution_count": 3,
     "metadata": {},
     "output_type": "execute_result"
    }
   ],
   "source": [
    "from collections.abc import Sized\n",
    "import abc\n",
    "class Company(object):\n",
    "    def __init__(self, employee_list):\n",
    "        self.employee = employee_list\n",
    "\n",
    "    def __len__(self):\n",
    "        return len(self.employee)\n",
    "    \n",
    "company = Company([\"jan\", \"chuan\", \"bobby\"])\n",
    "print(len(company))\n",
    "isinstance(company, Sized)\n"
   ]
  },
  {
   "cell_type": "code",
   "execution_count": 5,
   "metadata": {
    "collapsed": false,
    "ExecuteTime": {
     "end_time": "2023-05-18T05:11:35.219313Z",
     "start_time": "2023-05-18T05:11:35.212834Z"
    }
   },
   "outputs": [],
   "source": [
    "import abc\n",
    "from collections.abc import Sized\n",
    "\n",
    "class CacheBase(metaclass=abc.ABCMeta):\n",
    "\n",
    "    @abc.abstractmethod\n",
    "    def get(self, key):\n",
    "        pass\n",
    "\n",
    "    @abc.abstractmethod\n",
    "    def set(self, key, value):\n",
    "        pass\n",
    "\n",
    "\n",
    "class RedisCache(CacheBase):\n",
    "\n",
    "    def get(self, key):\n",
    "        pass\n",
    "\n",
    "    def set(self, key, value):\n",
    "        pass\n",
    "\n",
    "redis_cache = RedisCache()"
   ]
  },
  {
   "cell_type": "code",
   "execution_count": null,
   "outputs": [],
   "source": [],
   "metadata": {
    "collapsed": false
   }
  }
 ],
 "metadata": {
  "kernelspec": {
   "display_name": "base",
   "language": "python",
   "name": "python3"
  },
  "language_info": {
   "codemirror_mode": {
    "name": "ipython",
    "version": 3
   },
   "file_extension": ".py",
   "mimetype": "text/x-python",
   "name": "python",
   "nbconvert_exporter": "python",
   "pygments_lexer": "ipython3",
   "version": "3.10.9"
  },
  "orig_nbformat": 4
 },
 "nbformat": 4,
 "nbformat_minor": 2
}
